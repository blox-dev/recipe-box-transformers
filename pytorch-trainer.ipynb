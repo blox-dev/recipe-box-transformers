{
 "cells": [
  {
   "cell_type": "markdown",
   "metadata": {},
   "source": [
    "### Prerequisite packages"
   ]
  },
  {
   "cell_type": "code",
   "execution_count": null,
   "metadata": {},
   "outputs": [],
   "source": [
    "!pip install transformers"
   ]
  },
  {
   "cell_type": "markdown",
   "metadata": {},
   "source": [
    "### Variable initialization\n",
    "For this implementation I chose the gpt2 pretrained Model and AutoTokenizer"
   ]
  },
  {
   "cell_type": "code",
   "execution_count": null,
   "metadata": {},
   "outputs": [],
   "source": [
    "import re\n",
    "import json\n",
    "from sklearn.model_selection import train_test_split\n",
    "from transformers import TextDataset, DataCollatorForLanguageModeling  # Preprocessing\n",
    "from transformers import Trainer, TrainingArguments, AutoModelForCausalLM, AutoTokenizer  # Training\n",
    "from transformers import pipeline  # Testing\n",
    "\n",
    "INPUT_FILENAME = \"./dataset/recipes_raw_nosource_ar.json\"\n",
    "# INPUT_FILENAME = \"./dataset/recipes_raw_nosource_epi.json\"\n",
    "# INPUT_FILENAME = \"./dataset/recipes_raw_nosource_fn.json\"\n",
    "\n",
    "TRAIN_PATH = \"train_dataset.txt\"\n",
    "TEST_PATH = \"test_dataset.txt\"\n",
    "OUTPUT_PATH = \"./model\"\n",
    "LOG_PATH = \"./logs\"\n",
    "TOKENIZER_NAME = \"gpt2\"\n",
    "MODEL_NAME = \"gpt2\"\n",
    "\n",
    "\n",
    "tokenizer = AutoTokenizer.from_pretrained(TOKENIZER_NAME)\n",
    "model = AutoModelForCausalLM.from_pretrained(MODEL_NAME)"
   ]
  },
  {
   "cell_type": "markdown",
   "metadata": {},
   "source": [
    "### Data preprocessing"
   ]
  },
  {
   "cell_type": "code",
   "execution_count": null,
   "metadata": {},
   "outputs": [],
   "source": [
    "with open(INPUT_FILENAME) as f:\n",
    "    data = json.load(f)\n",
    "\n",
    "\n",
    "def build_file(data, filepath):\n",
    "    file = open(filepath, 'w')\n",
    "    string = ''\n",
    "\n",
    "    for texts in data:\n",
    "        if 'instructions' in texts:\n",
    "            instructions = texts['instructions']\n",
    "\n",
    "            instructions = re.sub(r'[^\\x00-\\x7f]', r' ', instructions)  # Remove non-Unicode characters\n",
    "            instructions = re.sub(r\"\\s+\", \" \", instructions)  # Remove trailing tabs and spaces\n",
    "\n",
    "            string += instructions + \"  \"\n",
    "\n",
    "    file.write(string)\n",
    "    file.close()\n",
    "\n",
    "\n",
    "data_list = []\n",
    "\n",
    "for key, value in data.items():  # Remove key hash, not relevant\n",
    "    data_list.append(value)\n",
    "\n",
    "train, test = train_test_split(data_list, test_size=0.15)\n",
    "\n",
    "build_file(train, TRAIN_PATH)\n",
    "build_file(test, TEST_PATH)\n",
    "\n",
    "print(\"Train dataset length: \" + str(len(train)))\n",
    "print(\"Test dataset length: \" + str(len(test)))"
   ]
  },
  {
   "cell_type": "markdown",
   "metadata": {},
   "source": [
    "### Dataset and trainer initialization\n",
    "Fine tuning proved most effective after 5 epochs, further training showed little to no improvement."
   ]
  },
  {
   "cell_type": "code",
   "execution_count": null,
   "metadata": {},
   "outputs": [],
   "source": [
    "train_dataset = TextDataset(\n",
    "    tokenizer=tokenizer,\n",
    "    file_path=TRAIN_PATH,\n",
    "    block_size=128)\n",
    "\n",
    "test_dataset = TextDataset(\n",
    "    tokenizer=tokenizer,\n",
    "    file_path=TEST_PATH,\n",
    "    block_size=128)\n",
    "\n",
    "data_collator = DataCollatorForLanguageModeling(\n",
    "    tokenizer=tokenizer, mlm=False,\n",
    ")\n",
    "\n",
    "training_args = TrainingArguments(\n",
    "    output_dir=OUTPUT_PATH,\n",
    "    logging_dir=LOG_PATH,\n",
    "    overwrite_output_dir=True,  # Overwrite the output directory\n",
    "    num_train_epochs=5,\n",
    "    warmup_steps=500,  # Number of steps used for a linear warmup from 0\n",
    "    eval_steps=500,  # Number of update steps between two evaluations.\n",
    "    per_device_train_batch_size=64,  # Batch size for training\n",
    "    per_device_eval_batch_size=64,  # Batch size for evaluation\n",
    ")\n",
    "\n",
    "trainer = Trainer(\n",
    "    model=model,\n",
    "    args=training_args,\n",
    "    data_collator=data_collator,\n",
    "    train_dataset=train_dataset,\n",
    "    eval_dataset=test_dataset,\n",
    ")\n"
   ]
  },
  {
   "cell_type": "markdown",
   "metadata": {},
   "source": [
    "### Training the model and saving the model"
   ]
  },
  {
   "cell_type": "code",
   "execution_count": null,
   "metadata": {},
   "outputs": [],
   "source": [
    "trainer.train()\n",
    "trainer.save_model()"
   ]
  },
  {
   "cell_type": "markdown",
   "metadata": {},
   "source": [
    "### Testing the results"
   ]
  },
  {
   "cell_type": "code",
   "execution_count": null,
   "metadata": {},
   "outputs": [],
   "source": [
    "model = pipeline('text-generation', model=OUTPUT_PATH, tokenizer=TOKENIZER_NAME)\n",
    "\n",
    "model(\"Chicken soup\")"
   ]
  }
 ],
 "metadata": {
  "kernelspec": {
   "display_name": "Python 3",
   "language": "python",
   "name": "python3"
  },
  "language_info": {
   "codemirror_mode": {
    "name": "ipython",
    "version": 3
   },
   "file_extension": ".py",
   "mimetype": "text/x-python",
   "name": "python",
   "nbconvert_exporter": "python",
   "pygments_lexer": "ipython3",
   "version": "3.8.3"
  }
 },
 "nbformat": 4,
 "nbformat_minor": 4
}
